{
 "cells": [
  {
   "cell_type": "code",
   "execution_count": 2,
   "id": "e5bbbeb1-ad2b-40e0-84fd-62711552da77",
   "metadata": {},
   "outputs": [],
   "source": [
    "a= True\n",
    "b=True\n",
    "\n",
    "c= False"
   ]
  },
  {
   "cell_type": "code",
   "execution_count": 3,
   "id": "a6f6636b-a661-4870-9b7a-6e7dd66ed0a1",
   "metadata": {},
   "outputs": [
    {
     "name": "stdout",
     "output_type": "stream",
     "text": [
      "Variable   Type    Data/Info\n",
      "----------------------------\n",
      "a          bool    True\n",
      "b          bool    True\n",
      "c          bool    False\n"
     ]
    }
   ],
   "source": [
    "%whos\n"
   ]
  },
  {
   "cell_type": "code",
   "execution_count": 8,
   "id": "a8a2a4cd-9f29-49b8-8930-5cf2775901f4",
   "metadata": {},
   "outputs": [
    {
     "name": "stdout",
     "output_type": "stream",
     "text": [
      "True\n"
     ]
    }
   ],
   "source": [
    "print(a and b)"
   ]
  },
  {
   "cell_type": "code",
   "execution_count": 9,
   "id": "6992b647-a7f6-4b5f-8c60-4a63c67bbe8c",
   "metadata": {},
   "outputs": [
    {
     "name": "stdout",
     "output_type": "stream",
     "text": [
      "False\n"
     ]
    }
   ],
   "source": [
    "print(b and c)"
   ]
  },
  {
   "cell_type": "code",
   "execution_count": 10,
   "id": "00fafa72-2acc-4157-b641-5c5688ef4722",
   "metadata": {},
   "outputs": [
    {
     "name": "stdout",
     "output_type": "stream",
     "text": [
      "False\n"
     ]
    }
   ],
   "source": [
    "print(a and c)"
   ]
  },
  {
   "cell_type": "markdown",
   "id": "6bc8ebfe-440d-4ad1-8d35-77e4bea5242c",
   "metadata": {},
   "source": [
    "Comparison"
   ]
  },
  {
   "cell_type": "code",
   "execution_count": 1,
   "id": "ab64194a-5198-42e4-84a2-7ac12d8c84fb",
   "metadata": {},
   "outputs": [
    {
     "name": "stdout",
     "output_type": "stream",
     "text": [
      "True\n"
     ]
    }
   ],
   "source": [
    "print(2<3)"
   ]
  },
  {
   "cell_type": "code",
   "execution_count": 3,
   "id": "6e778121-9a23-4b4d-a123-b57c444e5a2c",
   "metadata": {},
   "outputs": [
    {
     "name": "stdout",
     "output_type": "stream",
     "text": [
      "False\n",
      "False\n",
      "False\n",
      "True\n"
     ]
    }
   ],
   "source": [
    "print(False and False)\n",
    "print(False and True)\n",
    "print(True and False) \n",
    "print(True and True)"
   ]
  },
  {
   "cell_type": "code",
   "execution_count": 4,
   "id": "da5232d0-e22c-4faf-ae58-907d972c371e",
   "metadata": {},
   "outputs": [
    {
     "name": "stdout",
     "output_type": "stream",
     "text": [
      "False\n",
      "True\n",
      "True\n",
      "True\n"
     ]
    }
   ],
   "source": [
    "print(False or False)\n",
    "print(False or True)\n",
    "print(True or False) \n",
    "print(True or True)"
   ]
  },
  {
   "cell_type": "code",
   "execution_count": 4,
   "id": "6fd72af5-54dd-47b7-a4f4-05b154370426",
   "metadata": {},
   "outputs": [
    {
     "name": "stdin",
     "output_type": "stream",
     "text": [
      "enter a : 32\n",
      "enter b: 45\n"
     ]
    },
    {
     "name": "stdout",
     "output_type": "stream",
     "text": [
      "B:  45\n",
      "b is greater than a\n"
     ]
    }
   ],
   "source": [
    "a= int(input(\"enter a :\"))\n",
    "b=int (input (\"enter b:\"))\n",
    "if (a>b):\n",
    "    print(\"A: \",a)\n",
    "    print(\"a is greater than b\")\n",
    "else:\n",
    "    print(\"B: \",b)\n",
    "    print(\"b is greater than a\")"
   ]
  },
  {
   "cell_type": "code",
   "execution_count": 21,
   "id": "20906035-32f4-439c-979d-164362c28a23",
   "metadata": {},
   "outputs": [
    {
     "name": "stdin",
     "output_type": "stream",
     "text": [
      "enter your marks:  76\n"
     ]
    },
    {
     "name": "stdout",
     "output_type": "stream",
     "text": [
      "B grade\n"
     ]
    }
   ],
   "source": [
    "a = int(input(\"enter your marks: \"))\n",
    "if (a>=85):\n",
    "        print(\"A grade\")\n",
    "elif(80<=a<85):\n",
    "        print(\"A- grade\")\n",
    "elif(75<=a<80):\n",
    "        print(\"B grade\")\n",
    "else:\n",
    "    print(\"Fail\")"
   ]
  },
  {
   "cell_type": "code",
   "execution_count": 32,
   "id": "69285456-e748-4d7d-bf89-2bbbabc40e0e",
   "metadata": {},
   "outputs": [
    {
     "name": "stdin",
     "output_type": "stream",
     "text": [
      "enter number:  1\n"
     ]
    },
    {
     "name": "stdout",
     "output_type": "stream",
     "text": [
      "1\n",
      "odd number\n"
     ]
    }
   ],
   "source": [
    "float_num = float(input(\"enter number: \"))\n",
    "int_part = round(float_num)\n",
    "print(int_part)\n",
    "if( int_part % 2==0):\n",
    "    print(\"even number\")\n",
    "else:\n",
    "    print(\"odd number\")\n",
    "    "
   ]
  },
  {
   "cell_type": "code",
   "execution_count": 4,
   "id": "16979f59-ea8e-43f2-8432-d5e8f384cda6",
   "metadata": {},
   "outputs": [
    {
     "name": "stdin",
     "output_type": "stream",
     "text": [
      " 5\n"
     ]
    },
    {
     "name": "stdout",
     "output_type": "stream",
     "text": [
      "This is iteration number:  1\n",
      "1\n",
      "This is iteration number:  2\n",
      "4\n",
      "This is iteration number:  3\n",
      "9\n",
      "This is iteration number:  4\n",
      "16\n",
      "Loop Done!\n"
     ]
    }
   ],
   "source": [
    "n = int(input())\n",
    "i = 1\n",
    "while(i<n):\n",
    "    print(\"This is iteration number: \", i)\n",
    "    print(i**2)\n",
    "    \n",
    "    i = i + 1\n",
    "\n",
    "print(\"Loop Done!\")"
   ]
  },
  {
   "cell_type": "code",
   "execution_count": 6,
   "id": "e9745612-c79b-4ac3-988e-63b8f1c973cd",
   "metadata": {},
   "outputs": [
    {
     "name": "stdin",
     "output_type": "stream",
     "text": [
      "Max iterations:  5\n"
     ]
    },
    {
     "name": "stdout",
     "output_type": "stream",
     "text": [
      "2\n",
      "4\n",
      "done\n"
     ]
    }
   ],
   "source": [
    "n = int(input('Max iterations: '))\n",
    "i = 1\n",
    "while(i <n):\n",
    "    if i %2==0:\n",
    "        print(i)\n",
    "    else:\n",
    "        pass\n",
    "    i +=1\n",
    "print(\"done\")\n",
    "\n"
   ]
  },
  {
   "cell_type": "code",
   "execution_count": 3,
   "id": "d8e90ee7-eb57-4560-96f0-afc92cba2937",
   "metadata": {},
   "outputs": [
    {
     "name": "stdout",
     "output_type": "stream",
     "text": [
      "inside else\n",
      "inside If\n",
      "Done\n"
     ]
    }
   ],
   "source": [
    "n = 20\n",
    "\n",
    "i= 1\n",
    "while True:\n",
    "    if i %2==0:\n",
    "        print(\"inside If\")\n",
    "        break\n",
    "    else:\n",
    "        print(\"inside else\")\n",
    "        i += 1\n",
    "print (\"Done\")\n",
    "    "
   ]
  },
  {
   "cell_type": "code",
   "execution_count": 6,
   "id": "7bdcf91d-a40a-4254-bd3e-4a48ffa2a36f",
   "metadata": {},
   "outputs": [
    {
     "name": "stdout",
     "output_type": "stream",
     "text": [
      "cherry\n",
      "4.9\n",
      "outside the loop\n"
     ]
    }
   ],
   "source": [
    "s = {\"apple\", 4.9, \"cherry\"}\n",
    "i = 1\n",
    "for x in s:\n",
    "    print(x)\n",
    "    i +=1\n",
    "    if i ==3:\n",
    "        break\n",
    "    else:\n",
    "        pass\n",
    "else:\n",
    "    print(\"Loop terinated with success\")\n",
    "print(\"outside the loop\")\n"
   ]
  },
  {
   "cell_type": "code",
   "execution_count": 1,
   "id": "8efe775d-c97e-4f88-840e-388b1134affe",
   "metadata": {},
   "outputs": [
    {
     "name": "stdout",
     "output_type": "stream",
     "text": [
      "apple : 44\n",
      "banana : 20\n",
      "kiwi : 10\n"
     ]
    }
   ],
   "source": [
    "D = {\"apple\":44, \"banana\":20, \"kiwi\": 10}\n",
    "for x in D:\n",
    "    print(x,\":\", D[x])"
   ]
  },
  {
   "cell_type": "code",
   "execution_count": 10,
   "id": "72abcaca-7876-4ffa-b32a-69901fe62fa9",
   "metadata": {},
   "outputs": [
    {
     "name": "stdout",
     "output_type": "stream",
     "text": [
      "urheN invA\n"
     ]
    }
   ],
   "source": [
    "name = \"Avni Nehru\"\n",
    "rev= name[  :: -1]\n",
    "print(rev)"
   ]
  },
  {
   "cell_type": "code",
   "execution_count": 12,
   "id": "a0d75472-366c-4711-bc10-76f923f10167",
   "metadata": {},
   "outputs": [
    {
     "name": "stdin",
     "output_type": "stream",
     "text": [
      "input some comma-seperated numbers:  3,5,7,23\n"
     ]
    },
    {
     "name": "stdout",
     "output_type": "stream",
     "text": [
      "list:  ['3', '5', '7', '23']\n",
      "tuple:  ('3', '5', '7', '23')\n"
     ]
    }
   ],
   "source": [
    "data = input(\"input some comma-seperated numbers: \")\n",
    "list = data.split(\",\")\n",
    "tuple = tuple(list)\n",
    "print('list: ', list)\n",
    "print('tuple: ', tuple)"
   ]
  },
  {
   "cell_type": "code",
   "execution_count": 1,
   "id": "50bde1c6-db37-46e2-95d4-346a7f4d8373",
   "metadata": {},
   "outputs": [
    {
     "name": "stdout",
     "output_type": "stream",
     "text": [
      "Green Blue\n"
     ]
    }
   ],
   "source": [
    "color=[\"Green\", \"Pink\", \"Black\", \"Blue\"]\n",
    "print(\"%s %s\" %(color[0], color[-1]))"
   ]
  },
  {
   "cell_type": "code",
   "execution_count": 1,
   "id": "4943cf30-2ee5-472b-bf72-d10cb85d84da",
   "metadata": {},
   "outputs": [
    {
     "name": "stdout",
     "output_type": "stream",
     "text": [
      "Return the absolute value of the argument.\n"
     ]
    }
   ],
   "source": [
    "print(abs.__doc__)"
   ]
  },
  {
   "cell_type": "code",
   "execution_count": 2,
   "id": "a174f77d-82fb-4a47-bb2d-5f9bf92fb069",
   "metadata": {},
   "outputs": [
    {
     "name": "stdout",
     "output_type": "stream",
     "text": [
      "Return a new list containing all items from the iterable in ascending order.\n",
      "\n",
      "A custom key function can be supplied to customize the sort order, and the\n",
      "reverse flag can be set to request the result in descending order.\n"
     ]
    }
   ],
   "source": [
    "print(sorted.__doc__)"
   ]
  },
  {
   "cell_type": "code",
   "execution_count": 3,
   "id": "96981aef-69c6-42d2-9f89-1b8fd27db0ef",
   "metadata": {},
   "outputs": [
    {
     "name": "stdout",
     "output_type": "stream",
     "text": [
      "filter(function or None, iterable) --> filter object\n",
      "\n",
      "Return an iterator yielding those items of iterable for which function(item)\n",
      "is true. If function is None, return the items that are true.\n"
     ]
    }
   ],
   "source": [
    "print(filter.__doc__)"
   ]
  },
  {
   "cell_type": "code",
   "execution_count": 4,
   "id": "97503cbd-87ee-4dba-b1c6-fe017cb5fc2f",
   "metadata": {},
   "outputs": [
    {
     "name": "stdin",
     "output_type": "stream",
     "text": [
      "Input the year:  2004\n",
      "Input the month:  10\n"
     ]
    },
    {
     "name": "stdout",
     "output_type": "stream",
     "text": [
      "    October 2004\n",
      "Mo Tu We Th Fr Sa Su\n",
      "             1  2  3\n",
      " 4  5  6  7  8  9 10\n",
      "11 12 13 14 15 16 17\n",
      "18 19 20 21 22 23 24\n",
      "25 26 27 28 29 30 31\n",
      "\n"
     ]
    }
   ],
   "source": [
    "import calendar\n",
    "y = int(input(\"Input the year: \"))\n",
    "m = int(input(\"Input the month: \"))\n",
    "\n",
    "print(calendar.month(y, m))"
   ]
  },
  {
   "cell_type": "code",
   "execution_count": 7,
   "id": "710f3c2b-ad88-4d14-b0bc-5c35cb8e4ff9",
   "metadata": {},
   "outputs": [
    {
     "name": "stdin",
     "output_type": "stream",
     "text": [
      "Input the year:  2009\n"
     ]
    },
    {
     "name": "stdout",
     "output_type": "stream",
     "text": [
      "                                  2009\n",
      "\n",
      "      January                   February                   March\n",
      "Mo Tu We Th Fr Sa Su      Mo Tu We Th Fr Sa Su      Mo Tu We Th Fr Sa Su\n",
      "          1  2  3  4                         1                         1\n",
      " 5  6  7  8  9 10 11       2  3  4  5  6  7  8       2  3  4  5  6  7  8\n",
      "12 13 14 15 16 17 18       9 10 11 12 13 14 15       9 10 11 12 13 14 15\n",
      "19 20 21 22 23 24 25      16 17 18 19 20 21 22      16 17 18 19 20 21 22\n",
      "26 27 28 29 30 31         23 24 25 26 27 28         23 24 25 26 27 28 29\n",
      "                                                    30 31\n",
      "\n",
      "       April                      May                       June\n",
      "Mo Tu We Th Fr Sa Su      Mo Tu We Th Fr Sa Su      Mo Tu We Th Fr Sa Su\n",
      "       1  2  3  4  5                   1  2  3       1  2  3  4  5  6  7\n",
      " 6  7  8  9 10 11 12       4  5  6  7  8  9 10       8  9 10 11 12 13 14\n",
      "13 14 15 16 17 18 19      11 12 13 14 15 16 17      15 16 17 18 19 20 21\n",
      "20 21 22 23 24 25 26      18 19 20 21 22 23 24      22 23 24 25 26 27 28\n",
      "27 28 29 30               25 26 27 28 29 30 31      29 30\n",
      "\n",
      "        July                     August                  September\n",
      "Mo Tu We Th Fr Sa Su      Mo Tu We Th Fr Sa Su      Mo Tu We Th Fr Sa Su\n",
      "       1  2  3  4  5                      1  2          1  2  3  4  5  6\n",
      " 6  7  8  9 10 11 12       3  4  5  6  7  8  9       7  8  9 10 11 12 13\n",
      "13 14 15 16 17 18 19      10 11 12 13 14 15 16      14 15 16 17 18 19 20\n",
      "20 21 22 23 24 25 26      17 18 19 20 21 22 23      21 22 23 24 25 26 27\n",
      "27 28 29 30 31            24 25 26 27 28 29 30      28 29 30\n",
      "                          31\n",
      "\n",
      "      October                   November                  December\n",
      "Mo Tu We Th Fr Sa Su      Mo Tu We Th Fr Sa Su      Mo Tu We Th Fr Sa Su\n",
      "          1  2  3  4                         1          1  2  3  4  5  6\n",
      " 5  6  7  8  9 10 11       2  3  4  5  6  7  8       7  8  9 10 11 12 13\n",
      "12 13 14 15 16 17 18       9 10 11 12 13 14 15      14 15 16 17 18 19 20\n",
      "19 20 21 22 23 24 25      16 17 18 19 20 21 22      21 22 23 24 25 26 27\n",
      "26 27 28 29 30 31         23 24 25 26 27 28 29      28 29 30 31\n",
      "                          30\n",
      "\n"
     ]
    }
   ],
   "source": [
    "import calendar \n",
    "y = int(input(\"Input the year: \"))\n",
    "print(calendar.calendar(y))  "
   ]
  },
  {
   "cell_type": "code",
   "execution_count": 3,
   "id": "69c719dd-2b28-432d-9eb9-f3dd333c0ab9",
   "metadata": {},
   "outputs": [
    {
     "name": "stdin",
     "output_type": "stream",
     "text": [
      "enter the date:  2004-10-13\n"
     ]
    },
    {
     "name": "stdout",
     "output_type": "stream",
     "text": [
      "Wednesday\n"
     ]
    }
   ],
   "source": [
    "import datetime\n",
    "\n",
    "date = input(\"enter the date: \")\n",
    "date_obj = datetime.datetime.strptime(date, '%Y-%m-%d')\n",
    "\n",
    "weekday= date_obj.strftime('%A')\n",
    "print(weekday)"
   ]
  },
  {
   "cell_type": "code",
   "execution_count": 9,
   "id": "94f27559-a319-47ea-9656-60f67dce6ff6",
   "metadata": {},
   "outputs": [
    {
     "name": "stdout",
     "output_type": "stream",
     "text": [
      "1581\n"
     ]
    }
   ],
   "source": [
    "import datetime\n",
    "date1= date(2009,2,10)\n",
    "date2= date(2004,10,13)\n",
    "\n",
    "diff = date1 - date2\n",
    "print(diff.days)"
   ]
  },
  {
   "cell_type": "code",
   "execution_count": 13,
   "id": "a72278b7-1bf0-4fb3-af71-65e137e29bcc",
   "metadata": {},
   "outputs": [
    {
     "name": "stdout",
     "output_type": "stream",
     "text": [
      "904.7786842338603\n"
     ]
    }
   ],
   "source": [
    "import math\n",
    "r = 6.0\n",
    "volume = 4.0/3.0 * math.pi *r**3\n",
    "\n",
    "print(volume)"
   ]
  },
  {
   "cell_type": "code",
   "execution_count": 1,
   "id": "e047ac4a-4654-45fa-bf55-5b2b8865ff73",
   "metadata": {},
   "outputs": [
    {
     "name": "stdout",
     "output_type": "stream",
     "text": [
      "10\n",
      "3\n"
     ]
    }
   ],
   "source": [
    "def difference(n):\n",
    "    if n<=17:\n",
    "        return 17-n\n",
    "    else:\n",
    "        return (n-17)*2\n",
    "\n",
    "print(difference(22))\n",
    "print(difference(14))"
   ]
  },
  {
   "cell_type": "code",
   "execution_count": 2,
   "id": "582568e5-8d37-4fd8-ae36-0f666bd39473",
   "metadata": {},
   "outputs": [
    {
     "name": "stdout",
     "output_type": "stream",
     "text": [
      "True\n",
      "True\n",
      "False\n"
     ]
    }
   ],
   "source": [
    "# abs(x) = absolute value of a number. \n",
    "def near_thousand(n):\n",
    "    return ((abs(1000-n)<=100) or (abs(2000-n) <= 100))\n",
    "\n",
    "print(near_thousand(1000))\n",
    "print(near_thousand(900))\n",
    "print(near_thousand(800))"
   ]
  },
  {
   "cell_type": "code",
   "execution_count": 10,
   "id": "a9a70504-ff30-4227-9ef2-de541241a82f",
   "metadata": {},
   "outputs": [
    {
     "name": "stdin",
     "output_type": "stream",
     "text": [
      "enter n1:  24\n",
      "enter n2:  56\n",
      "enter n3:  34\n"
     ]
    },
    {
     "name": "stdout",
     "output_type": "stream",
     "text": [
      "114\n",
      "sum of the numbers are:   114\n"
     ]
    }
   ],
   "source": [
    "def sum_of_three(n1,n2,n3):\n",
    "    if (n1==n2==n3):\n",
    "        total = (n1+n2+n3)* 3\n",
    "    else:\n",
    "        total = n1+n2+n3\n",
    "    return total\n",
    "\n",
    "n1= int(input(\"enter n1: \"))\n",
    "n2= int(input(\"enter n2: \"))\n",
    "n3= int(input(\"enter n3: \"))\n",
    "total = sum_of_three(n1,n2,n3)\n",
    "print(n1+n2+n3)\n",
    "print(\"sum of the numbers are:  \", total)"
   ]
  },
  {
   "cell_type": "code",
   "execution_count": 1,
   "id": "631cc568-76ee-477a-9aa4-dba60a0d3855",
   "metadata": {},
   "outputs": [
    {
     "name": "stdout",
     "output_type": "stream",
     "text": [
      "IsArray\n",
      "IsEmpty\n"
     ]
    }
   ],
   "source": [
    "def new_string(text):\n",
    "    if len(text)>=2 and text[:2]==\"Is\":\n",
    "        return text\n",
    "    else:\n",
    "        return \"Is\" + text\n",
    "\n",
    "print(new_string(\"Array\"))\n",
    "print(new_string(\"IsEmpty\"))"
   ]
  },
  {
   "cell_type": "code",
   "execution_count": 4,
   "id": "42d2acb4-e94a-408a-8ea2-7b23b8e6c742",
   "metadata": {},
   "outputs": [
    {
     "name": "stdin",
     "output_type": "stream",
     "text": [
      "ENter a number:  4\n"
     ]
    },
    {
     "name": "stdout",
     "output_type": "stream",
     "text": [
      "even\n"
     ]
    }
   ],
   "source": [
    "num = int(input(\"Enter a number: \"))\n",
    "if (num %2==0):\n",
    "    print(\"even\")\n",
    "else:\n",
    "    print(\"odd\")"
   ]
  },
  {
   "cell_type": "code",
   "execution_count": 4,
   "id": "eb1e6534-6cf6-47a5-a139-584ff6b41302",
   "metadata": {},
   "outputs": [
    {
     "name": "stdout",
     "output_type": "stream",
     "text": [
      "2\n",
      "2\n"
     ]
    }
   ],
   "source": [
    "def list_count(nums):\n",
    "    count = 0\n",
    "\n",
    "    for num in nums:\n",
    "        if num == 4:\n",
    "            count = count +1\n",
    "    return count \n",
    "\n",
    "print(list_count([1, 3, 4, 4, 6]))\n",
    "print(list_count([2,5,4,3,4,2,2]))"
   ]
  },
  {
   "cell_type": "code",
   "execution_count": 2,
   "id": "e96a9081-7eac-4310-a85e-29f600088509",
   "metadata": {},
   "outputs": [
    {
     "name": "stdout",
     "output_type": "stream",
     "text": [
      "abab\n",
      "ppp\n"
     ]
    }
   ],
   "source": [
    "def counts(string, n):\n",
    "    lent= 2\n",
    "    if lent > len(string):\n",
    "        lent = len(string)\n",
    "    substr = string[:lent]\n",
    "    result = \"\"\n",
    "\n",
    "    for i in range(n):\n",
    "        result = result + substr\n",
    "    return result\n",
    "\n",
    "print(counts('abcdef', 2))\n",
    "print(counts('p', 3))"
   ]
  },
  {
   "cell_type": "code",
   "execution_count": 4,
   "id": "00fe9d1e-66e4-43e8-902f-e37b2a94cfd3",
   "metadata": {},
   "outputs": [
    {
     "name": "stdout",
     "output_type": "stream",
     "text": [
      "False\n",
      "True\n"
     ]
    }
   ],
   "source": [
    "def is_vowel(char):\n",
    "    vowels = 'aeiou'\n",
    "    return char in vowels\n",
    "print(is_vowel('c'))\n",
    "print(is_vowel('o'))"
   ]
  },
  {
   "cell_type": "code",
   "execution_count": 7,
   "id": "29bc6519-94d7-4760-b92e-77565dd7f6c9",
   "metadata": {},
   "outputs": [
    {
     "name": "stdout",
     "output_type": "stream",
     "text": [
      "True\n",
      "False\n"
     ]
    }
   ],
   "source": [
    "def group(data, n):\n",
    "    for value in data:\n",
    "        if n == value:\n",
    "            return True\n",
    "    return False\n",
    "\n",
    "print(group([2,3,4,4,5,6,3], 4))\n",
    "print(group([5,8,3],-1))"
   ]
  },
  {
   "cell_type": "code",
   "execution_count": 10,
   "id": "101b7997-2d5a-4b64-9791-f03bf28368d0",
   "metadata": {},
   "outputs": [
    {
     "name": "stdout",
     "output_type": "stream",
     "text": [
      "**\n",
      "***\n",
      "******\n",
      "*****\n"
     ]
    }
   ],
   "source": [
    "def histogram (items):\n",
    "    for n in items:\n",
    "        output = ''\n",
    "        times= n\n",
    "\n",
    "        while times > 0:\n",
    "            output +='*'\n",
    "            times = times -1\n",
    "        print(output)\n",
    "\n",
    "histogram([2,3,6,5])"
   ]
  },
  {
   "cell_type": "code",
   "execution_count": 12,
   "id": "75ead096-10d9-4f5f-974a-98f8acc1884a",
   "metadata": {},
   "outputs": [
    {
     "name": "stdout",
     "output_type": "stream",
     "text": [
      "15122\n"
     ]
    }
   ],
   "source": [
    "def con(lst):\n",
    "    result = ''\n",
    "    for element in lst :\n",
    "        result +=str(element)\n",
    "\n",
    "    return result\n",
    "\n",
    "print(con([1,5,12,2]))"
   ]
  },
  {
   "cell_type": "code",
   "execution_count": 18,
   "id": "8e3f3c2b-b773-4ee6-926a-1fda0be73cab",
   "metadata": {},
   "outputs": [
    {
     "name": "stdout",
     "output_type": "stream",
     "text": [
      "386\n",
      "462\n",
      "47\n",
      "418\n",
      "907\n",
      "344\n",
      "236\n",
      "375\n",
      "823\n",
      "566\n",
      "597\n",
      "978\n",
      "328\n",
      "615\n",
      "953\n",
      "345\n",
      "399\n",
      "162\n",
      "758\n",
      "219\n",
      "918\n",
      "237\n"
     ]
    }
   ],
   "source": [
    "num = [386, 462, 47, 418, 907, 344, 236, 375, 823, 566, 597, 978, 328, 615, 953, 345, \n",
    "    399, 162, 758, 219, 918, 237, 412, 566, 826, 248, 866, 950, 626, 949, 687, 217, \n",
    "    815, 67, 104, 58, 512, 24, 892, 894, 767, 553, 81, 379, 843, 831, 445, 742, 717, \n",
    "    958,743, 527]\n",
    "\n",
    "for x in num:\n",
    "    if x == 237:\n",
    "        print(x)\n",
    "        break\n",
    "    else:\n",
    "        x%2==0\n",
    "        print(x)"
   ]
  },
  {
   "cell_type": "code",
   "execution_count": 19,
   "id": "62b31d55-8c53-4a4b-8e89-c86e78de9655",
   "metadata": {},
   "outputs": [
    {
     "name": "stdout",
     "output_type": "stream",
     "text": [
      "Original set elements:\n",
      "{'White', 'Black', 'Red'}\n",
      "{'Red', 'Green'}\n",
      "\n",
      "Difference of color_list_1 and color_list_2:\n",
      "{'White', 'Black'}\n",
      "\n",
      "Difference of color_list_2 and color_list_1:\n",
      "{'Green'}\n"
     ]
    }
   ],
   "source": [
    "\n",
    "color_list_1 = set([\"White\", \"Black\", \"Red\"])\n",
    "color_list_2 = set([\"Red\", \"Green\"])\n",
    "\n",
    "\n",
    "print(\"Original set elements:\")\n",
    "print(color_list_1)\n",
    "print(color_list_2)\n",
    "\n",
    "\n",
    "print(\"\\nDifference of color_list_1 and color_list_2:\")\n",
    "print(color_list_1.difference(color_list_2))\n",
    "\n",
    "print(\"\\nDifference of color_list_2 and color_list_1:\")\n",
    "print(color_list_2.difference(color_list_1))"
   ]
  },
  {
   "cell_type": "code",
   "execution_count": 3,
   "id": "61be69f1-ffd9-4aad-871e-95b5722db173",
   "metadata": {},
   "outputs": [
    {
     "name": "stdout",
     "output_type": "stream",
     "text": [
      "an$n$n\n"
     ]
    }
   ],
   "source": [
    "def change(text):\n",
    "    char = text[0]\n",
    "    text = text.replace(char, '$')\n",
    "    text = char +text[1:]\n",
    "    return text\n",
    "print(change('ananan'))\n"
   ]
  },
  {
   "cell_type": "code",
   "execution_count": 6,
   "id": "03840b60-de59-4475-973f-99e15e0f453d",
   "metadata": {},
   "outputs": [
    {
     "name": "stdout",
     "output_type": "stream",
     "text": [
      "xyllo hez\n"
     ]
    }
   ],
   "source": [
    "def swap(str1, str2):\n",
    "    first2_str1=str1[:2]\n",
    "    rest_str1=str1[2:]\n",
    "    first2_str2=str2[:2]\n",
    "    rest_str2=str2[2:]\n",
    "\n",
    "    new_str1=first2_str2+rest_str1\n",
    "    new_str2= first2_str1+rest_str2\n",
    "\n",
    "    return new_str1+ \" \" +new_str2\n",
    "\n",
    "print(swap(\"hello\", \"xyz\"))"
   ]
  },
  {
   "cell_type": "code",
   "execution_count": 12,
   "id": "6a5097ff-181b-442c-ad98-7aadff94df22",
   "metadata": {},
   "outputs": [
    {
     "name": "stdout",
     "output_type": "stream",
     "text": [
      "xc\n",
      "d\n",
      "xcd\n"
     ]
    }
   ],
   "source": [
    "a= \"asd\"\n",
    "b= \"xcv\"\n",
    "c= b[:2] \n",
    "d= a[2:]\n",
    "print(c)\n",
    "print(d)\n",
    "print(c+d)"
   ]
  },
  {
   "cell_type": "code",
   "execution_count": 25,
   "id": "064b794b-bc87-4057-ba09-18926cba41b4",
   "metadata": {},
   "outputs": [
    {
     "name": "stdout",
     "output_type": "stream",
     "text": [
      "BRAINing\n",
      "RAININGing\n",
      "br\n"
     ]
    }
   ],
   "source": [
    "def adding(str1):\n",
    "    if len(str1)>2:\n",
    "        if str1[-3:]==\"ing\":\n",
    "            str1 = str1+\"ly\"\n",
    "        else:\n",
    "            str1 +=\"ing\"\n",
    "    return str1\n",
    "\n",
    "print(adding(\"BRAIN\"))\n",
    "print(adding(\"RAINING\"))  \n",
    "print(adding(\"br\"))"
   ]
  },
  {
   "cell_type": "code",
   "execution_count": 1,
   "id": "d873bfdc-d1ea-4d32-b5c2-b968605949a9",
   "metadata": {},
   "outputs": [
    {
     "name": "stdout",
     "output_type": "stream",
     "text": [
      "EXCERCISE\n",
      "9\n"
     ]
    }
   ],
   "source": [
    "def longest_word(word_list):\n",
    "    longest_word=\"\"\n",
    "\n",
    "    for word in word_list:\n",
    "        if len(word)>len(longest_word):\n",
    "            longest_word=word\n",
    "    return longest_word, len(longest_word)\n",
    "\n",
    "result = longest_word([\"PHP\", \"EXCERCISE\", \"BAcKEND\"])\n",
    "print(result[0])\n",
    "print(result[1])\n",
    "    \n"
   ]
  },
  {
   "cell_type": "code",
   "execution_count": 2,
   "id": "23569751-1e19-4a76-8a3b-b95bc9ba50be",
   "metadata": {},
   "outputs": [
    {
     "name": "stdout",
     "output_type": "stream",
     "text": [
      "Sting\n"
     ]
    }
   ],
   "source": [
    "def remove_nth(str, n):\n",
    "    first_part= str[:n]\n",
    "    last_part= str[n+1:]\n",
    "\n",
    "    return first_part+last_part\n",
    "\n",
    "print(remove_nth(\"String\", 2))"
   ]
  },
  {
   "cell_type": "code",
   "execution_count": 7,
   "id": "0d40aae4-635d-4517-8b4e-c2d433cf4880",
   "metadata": {},
   "outputs": [
    {
     "name": "stdout",
     "output_type": "stream",
     "text": [
      "52341\n",
      "gsdfa\n"
     ]
    }
   ],
   "source": [
    "def swaping(str):\n",
    "    if len(str)<2:\n",
    "        return \"Short String\"\n",
    "\n",
    "    return str[-1:]+str[1:-1]+str[:1]\n",
    "\n",
    "print(swaping('12345'))\n",
    "print(swaping('asdfg'))"
   ]
  },
  {
   "cell_type": "code",
   "execution_count": 13,
   "id": "0e159c31-6157-4e5b-b9d5-f01566e75ed4",
   "metadata": {},
   "outputs": [
    {
     "name": "stdout",
     "output_type": "stream",
     "text": [
      "adg\n"
     ]
    }
   ],
   "source": [
    "def remove_odd(str):\n",
    "    result = \"\"\n",
    "    for i in range (len(str)):\n",
    "        if i %2==0:\n",
    "            result = result+str[i]\n",
    "    return result\n",
    "print(remove_odd('asdfg'))"
   ]
  },
  {
   "cell_type": "code",
   "execution_count": 5,
   "id": "f2209d61-8942-4dad-99bd-27bfc85c3263",
   "metadata": {},
   "outputs": [
    {
     "name": "stdout",
     "output_type": "stream",
     "text": [
      "3\n",
      "9\n"
     ]
    }
   ],
   "source": [
    "a = (1,4,5,45,43,532,34,543,2340)\n",
    "\n",
    "i = a.index(45)\n",
    "print(i)\n",
    "print(len(a))"
   ]
  },
  {
   "cell_type": "code",
   "execution_count": 7,
   "id": "85da1ce3-73a8-4a2c-89d7-4594b9122f95",
   "metadata": {},
   "outputs": [
    {
     "name": "stdout",
     "output_type": "stream",
     "text": [
      "5\n"
     ]
    }
   ],
   "source": [
    "l = [1,1,1,1,1]\n",
    "print(sum(l))"
   ]
  },
  {
   "cell_type": "code",
   "execution_count": 18,
   "id": "1ee2642c-0e63-4df5-9b97-fc8ac89af653",
   "metadata": {},
   "outputs": [
    {
     "name": "stdout",
     "output_type": "stream",
     "text": [
      "{'Harry': 99, 'Avni': 100, 'R': 23, 'Aarav': 79, 'Arpit': 0, 'Renuka': 90}\n",
      "None\n"
     ]
    },
    {
     "ename": "KeyError",
     "evalue": "'Harry2'",
     "output_type": "error",
     "traceback": [
      "\u001b[1;31m---------------------------------------------------------------------------\u001b[0m",
      "\u001b[1;31mKeyError\u001b[0m                                  Traceback (most recent call last)",
      "Cell \u001b[1;32mIn[18], line 15\u001b[0m\n\u001b[0;32m     13\u001b[0m \u001b[38;5;28mprint\u001b[39m(marks)\n\u001b[0;32m     14\u001b[0m \u001b[38;5;28mprint\u001b[39m(marks\u001b[38;5;241m.\u001b[39mget(\u001b[38;5;124m\"\u001b[39m\u001b[38;5;124mHarry2\u001b[39m\u001b[38;5;124m\"\u001b[39m)) \u001b[38;5;66;03m#prints NONE\u001b[39;00m\n\u001b[1;32m---> 15\u001b[0m \u001b[38;5;28mprint\u001b[39m(marks[\u001b[38;5;124m\"\u001b[39m\u001b[38;5;124mHarry2\u001b[39m\u001b[38;5;124m\"\u001b[39m])\n",
      "\u001b[1;31mKeyError\u001b[0m: 'Harry2'"
     ]
    }
   ],
   "source": [
    "marks = {\n",
    "    \"Harry\":100,\n",
    "    \"Avni\": 100,\n",
    "    \"R\": 23,\n",
    "    \"Aarav\": 79,\n",
    "    \"Arpit\":0\n",
    "}\n",
    "\n",
    "#print(marks.values())\n",
    "#print(marks.keys())\n",
    "\n",
    "marks.update({\"Harry\":99, \"Renuka\":90})\n",
    "print(marks)\n",
    "print(marks.get(\"Harry2\")) #prints NONE\n",
    "print(marks[\"Harry2\"]) #Error"
   ]
  },
  {
   "cell_type": "code",
   "execution_count": 34,
   "id": "069623da-4ba0-41bb-b738-10b198dacb0f",
   "metadata": {},
   "outputs": [
    {
     "name": "stdout",
     "output_type": "stream",
     "text": [
      "{2, 3, 4, 5, 6, 7, 8, 9, 23, 57, 'Harry'}\n",
      "{2, 3, 4, 5, 6, 7, 8, 9, 2567, 23, 57, 'Harry'} <class 'set'>\n",
      "{939488, 2, 3, 4, 5, 6, 7, 8, 9, 2567, 23, 57, 'Harry'}\n",
      "set()\n"
     ]
    }
   ],
   "source": [
    "e = set()\n",
    "s = {23,57,2,3,3,4,5,6,7,8,9, \"Harry\"}\n",
    "print(s)\n",
    "s.add(2567)\n",
    "print(s, type(s))\n",
    "s.update([939488])\n",
    "print(s)\n",
    "s.clear()\n",
    "print(s)"
   ]
  },
  {
   "cell_type": "code",
   "execution_count": 38,
   "id": "b4163909-afe6-4e3e-9e01-a9c976f50d68",
   "metadata": {},
   "outputs": [
    {
     "name": "stdout",
     "output_type": "stream",
     "text": [
      "{1, 2, 3, 4, 5, 8, 9}\n",
      "{2, 3, 4}\n",
      "{1, 5}\n"
     ]
    }
   ],
   "source": [
    "s1={1,2,3,4,5}\n",
    "s2= {2,3,4,8,9}\n",
    "print(s1.union(s2))\n",
    "print(s1.intersection(s2))\n",
    "print(s1-s2)"
   ]
  },
  {
   "cell_type": "code",
   "execution_count": null,
   "id": "105c0e66-642a-4884-ac89-222dc70d4cb8",
   "metadata": {},
   "outputs": [],
   "source": []
  }
 ],
 "metadata": {
  "kernelspec": {
   "display_name": "Python 3 (ipykernel)",
   "language": "python",
   "name": "python3"
  },
  "language_info": {
   "codemirror_mode": {
    "name": "ipython",
    "version": 3
   },
   "file_extension": ".py",
   "mimetype": "text/x-python",
   "name": "python",
   "nbconvert_exporter": "python",
   "pygments_lexer": "ipython3",
   "version": "3.12.7"
  }
 },
 "nbformat": 4,
 "nbformat_minor": 5
}
